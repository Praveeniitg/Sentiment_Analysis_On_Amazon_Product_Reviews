{
  "cells": [
    {
      "cell_type": "code",
      "execution_count": 41,
      "id": "6ef01de4",
      "metadata": {
        "id": "6ef01de4"
      },
      "outputs": [],
      "source": [
        "import pandas as pd\n",
        "import numpy as np\n",
        "\n",
        "import matplotlib.pyplot as plt\n",
        "import seaborn as sns\n",
        "%matplotlib inline"
      ]
    },
    {
      "cell_type": "code",
      "execution_count": 42,
      "id": "273896d0",
      "metadata": {
        "colab": {
          "base_uri": "https://localhost:8080/",
          "height": 206
        },
        "id": "273896d0",
        "outputId": "173da4d7-caf5-4cec-a593-24f2c653c945"
      },
      "outputs": [
        {
          "output_type": "execute_result",
          "data": {
            "text/plain": [
              "                                        Product Name Brand Name   Price  \\\n",
              "0  \"CLEAR CLEAN ESN\" Sprint EPIC 4G Galaxy SPH-D7...    Samsung  199.99   \n",
              "1  \"CLEAR CLEAN ESN\" Sprint EPIC 4G Galaxy SPH-D7...    Samsung  199.99   \n",
              "2  \"CLEAR CLEAN ESN\" Sprint EPIC 4G Galaxy SPH-D7...    Samsung  199.99   \n",
              "3  \"CLEAR CLEAN ESN\" Sprint EPIC 4G Galaxy SPH-D7...    Samsung  199.99   \n",
              "4  \"CLEAR CLEAN ESN\" Sprint EPIC 4G Galaxy SPH-D7...    Samsung  199.99   \n",
              "\n",
              "   Rating                                            Reviews  Review Votes  \n",
              "0       5  I feel so LUCKY to have found this used (phone...           1.0  \n",
              "1       4  nice phone, nice up grade from my pantach revu...           0.0  \n",
              "2       5                                       Very pleased           0.0  \n",
              "3       4  It works good but it goes slow sometimes but i...           0.0  \n",
              "4       4  Great phone to replace my lost phone. The only...           0.0  "
            ],
            "text/html": [
              "\n",
              "  <div id=\"df-ad2a0e36-b336-481f-8914-a06d37b3d399\">\n",
              "    <div class=\"colab-df-container\">\n",
              "      <div>\n",
              "<style scoped>\n",
              "    .dataframe tbody tr th:only-of-type {\n",
              "        vertical-align: middle;\n",
              "    }\n",
              "\n",
              "    .dataframe tbody tr th {\n",
              "        vertical-align: top;\n",
              "    }\n",
              "\n",
              "    .dataframe thead th {\n",
              "        text-align: right;\n",
              "    }\n",
              "</style>\n",
              "<table border=\"1\" class=\"dataframe\">\n",
              "  <thead>\n",
              "    <tr style=\"text-align: right;\">\n",
              "      <th></th>\n",
              "      <th>Product Name</th>\n",
              "      <th>Brand Name</th>\n",
              "      <th>Price</th>\n",
              "      <th>Rating</th>\n",
              "      <th>Reviews</th>\n",
              "      <th>Review Votes</th>\n",
              "    </tr>\n",
              "  </thead>\n",
              "  <tbody>\n",
              "    <tr>\n",
              "      <th>0</th>\n",
              "      <td>\"CLEAR CLEAN ESN\" Sprint EPIC 4G Galaxy SPH-D7...</td>\n",
              "      <td>Samsung</td>\n",
              "      <td>199.99</td>\n",
              "      <td>5</td>\n",
              "      <td>I feel so LUCKY to have found this used (phone...</td>\n",
              "      <td>1.0</td>\n",
              "    </tr>\n",
              "    <tr>\n",
              "      <th>1</th>\n",
              "      <td>\"CLEAR CLEAN ESN\" Sprint EPIC 4G Galaxy SPH-D7...</td>\n",
              "      <td>Samsung</td>\n",
              "      <td>199.99</td>\n",
              "      <td>4</td>\n",
              "      <td>nice phone, nice up grade from my pantach revu...</td>\n",
              "      <td>0.0</td>\n",
              "    </tr>\n",
              "    <tr>\n",
              "      <th>2</th>\n",
              "      <td>\"CLEAR CLEAN ESN\" Sprint EPIC 4G Galaxy SPH-D7...</td>\n",
              "      <td>Samsung</td>\n",
              "      <td>199.99</td>\n",
              "      <td>5</td>\n",
              "      <td>Very pleased</td>\n",
              "      <td>0.0</td>\n",
              "    </tr>\n",
              "    <tr>\n",
              "      <th>3</th>\n",
              "      <td>\"CLEAR CLEAN ESN\" Sprint EPIC 4G Galaxy SPH-D7...</td>\n",
              "      <td>Samsung</td>\n",
              "      <td>199.99</td>\n",
              "      <td>4</td>\n",
              "      <td>It works good but it goes slow sometimes but i...</td>\n",
              "      <td>0.0</td>\n",
              "    </tr>\n",
              "    <tr>\n",
              "      <th>4</th>\n",
              "      <td>\"CLEAR CLEAN ESN\" Sprint EPIC 4G Galaxy SPH-D7...</td>\n",
              "      <td>Samsung</td>\n",
              "      <td>199.99</td>\n",
              "      <td>4</td>\n",
              "      <td>Great phone to replace my lost phone. The only...</td>\n",
              "      <td>0.0</td>\n",
              "    </tr>\n",
              "  </tbody>\n",
              "</table>\n",
              "</div>\n",
              "      <button class=\"colab-df-convert\" onclick=\"convertToInteractive('df-ad2a0e36-b336-481f-8914-a06d37b3d399')\"\n",
              "              title=\"Convert this dataframe to an interactive table.\"\n",
              "              style=\"display:none;\">\n",
              "        \n",
              "  <svg xmlns=\"http://www.w3.org/2000/svg\" height=\"24px\"viewBox=\"0 0 24 24\"\n",
              "       width=\"24px\">\n",
              "    <path d=\"M0 0h24v24H0V0z\" fill=\"none\"/>\n",
              "    <path d=\"M18.56 5.44l.94 2.06.94-2.06 2.06-.94-2.06-.94-.94-2.06-.94 2.06-2.06.94zm-11 1L8.5 8.5l.94-2.06 2.06-.94-2.06-.94L8.5 2.5l-.94 2.06-2.06.94zm10 10l.94 2.06.94-2.06 2.06-.94-2.06-.94-.94-2.06-.94 2.06-2.06.94z\"/><path d=\"M17.41 7.96l-1.37-1.37c-.4-.4-.92-.59-1.43-.59-.52 0-1.04.2-1.43.59L10.3 9.45l-7.72 7.72c-.78.78-.78 2.05 0 2.83L4 21.41c.39.39.9.59 1.41.59.51 0 1.02-.2 1.41-.59l7.78-7.78 2.81-2.81c.8-.78.8-2.07 0-2.86zM5.41 20L4 18.59l7.72-7.72 1.47 1.35L5.41 20z\"/>\n",
              "  </svg>\n",
              "      </button>\n",
              "      \n",
              "  <style>\n",
              "    .colab-df-container {\n",
              "      display:flex;\n",
              "      flex-wrap:wrap;\n",
              "      gap: 12px;\n",
              "    }\n",
              "\n",
              "    .colab-df-convert {\n",
              "      background-color: #E8F0FE;\n",
              "      border: none;\n",
              "      border-radius: 50%;\n",
              "      cursor: pointer;\n",
              "      display: none;\n",
              "      fill: #1967D2;\n",
              "      height: 32px;\n",
              "      padding: 0 0 0 0;\n",
              "      width: 32px;\n",
              "    }\n",
              "\n",
              "    .colab-df-convert:hover {\n",
              "      background-color: #E2EBFA;\n",
              "      box-shadow: 0px 1px 2px rgba(60, 64, 67, 0.3), 0px 1px 3px 1px rgba(60, 64, 67, 0.15);\n",
              "      fill: #174EA6;\n",
              "    }\n",
              "\n",
              "    [theme=dark] .colab-df-convert {\n",
              "      background-color: #3B4455;\n",
              "      fill: #D2E3FC;\n",
              "    }\n",
              "\n",
              "    [theme=dark] .colab-df-convert:hover {\n",
              "      background-color: #434B5C;\n",
              "      box-shadow: 0px 1px 3px 1px rgba(0, 0, 0, 0.15);\n",
              "      filter: drop-shadow(0px 1px 2px rgba(0, 0, 0, 0.3));\n",
              "      fill: #FFFFFF;\n",
              "    }\n",
              "  </style>\n",
              "\n",
              "      <script>\n",
              "        const buttonEl =\n",
              "          document.querySelector('#df-ad2a0e36-b336-481f-8914-a06d37b3d399 button.colab-df-convert');\n",
              "        buttonEl.style.display =\n",
              "          google.colab.kernel.accessAllowed ? 'block' : 'none';\n",
              "\n",
              "        async function convertToInteractive(key) {\n",
              "          const element = document.querySelector('#df-ad2a0e36-b336-481f-8914-a06d37b3d399');\n",
              "          const dataTable =\n",
              "            await google.colab.kernel.invokeFunction('convertToInteractive',\n",
              "                                                     [key], {});\n",
              "          if (!dataTable) return;\n",
              "\n",
              "          const docLinkHtml = 'Like what you see? Visit the ' +\n",
              "            '<a target=\"_blank\" href=https://colab.research.google.com/notebooks/data_table.ipynb>data table notebook</a>'\n",
              "            + ' to learn more about interactive tables.';\n",
              "          element.innerHTML = '';\n",
              "          dataTable['output_type'] = 'display_data';\n",
              "          await google.colab.output.renderOutput(dataTable, element);\n",
              "          const docLink = document.createElement('div');\n",
              "          docLink.innerHTML = docLinkHtml;\n",
              "          element.appendChild(docLink);\n",
              "        }\n",
              "      </script>\n",
              "    </div>\n",
              "  </div>\n",
              "  "
            ]
          },
          "metadata": {},
          "execution_count": 42
        }
      ],
      "source": [
        "# Load csv file\n",
        "df = pd.read_csv('/content/drive/MyDrive/Amazon_Unlocked_Mobile.csv', encoding='utf-8')\n",
        "df.head()"
      ]
    },
    {
      "cell_type": "code",
      "execution_count": 43,
      "id": "b16519b0",
      "metadata": {
        "colab": {
          "base_uri": "https://localhost:8080/"
        },
        "id": "b16519b0",
        "outputId": "914f206d-8f40-437a-c1c2-a25298da21c2"
      },
      "outputs": [
        {
          "output_type": "execute_result",
          "data": {
            "text/plain": [
              "(413840, 6)"
            ]
          },
          "metadata": {},
          "execution_count": 43
        }
      ],
      "source": [
        "df.shape"
      ]
    },
    {
      "cell_type": "code",
      "source": [
        "from google.colab import drive\n",
        "drive.mount('/content/drive')"
      ],
      "metadata": {
        "colab": {
          "base_uri": "https://localhost:8080/"
        },
        "id": "ZN13YuaeEGZB",
        "outputId": "9244a6f5-f665-44db-eabe-7d9051ad129a"
      },
      "id": "ZN13YuaeEGZB",
      "execution_count": 44,
      "outputs": [
        {
          "output_type": "stream",
          "name": "stdout",
          "text": [
            "Drive already mounted at /content/drive; to attempt to forcibly remount, call drive.mount(\"/content/drive\", force_remount=True).\n"
          ]
        }
      ]
    },
    {
      "cell_type": "code",
      "execution_count": 45,
      "id": "cd96eabf",
      "metadata": {
        "colab": {
          "base_uri": "https://localhost:8080/",
          "height": 206
        },
        "id": "cd96eabf",
        "outputId": "d3d9df5c-1fd3-414b-b561-5cb8b84e376e"
      },
      "outputs": [
        {
          "output_type": "execute_result",
          "data": {
            "text/plain": [
              "                                             Product Name Brand Name    Price  \\\n",
              "134801  BLU Studio 5.0 C HD - Unlocked Cell Phones - R...        BLU  2000.00   \n",
              "123493                         Blu LIFE 8 Unlocked (Pink)        BLU   199.98   \n",
              "335592  Samsung Galaxy S Duos II S7582 DUAL SIM Factor...    Samsung   299.99   \n",
              "246353  Motorola Droid 2 A955 Verizon Phone 5MP Cam, W...   Motorola    82.00   \n",
              "273324  Nokia Lumia 920 32GB Unlocked GSM 4G LTE Windo...      Nokia   149.35   \n",
              "\n",
              "        Rating                                            Reviews  \\\n",
              "134801       5  For the price I paid for this devices, its fan...   \n",
              "123493       5  love love love it....good buy...recommend to a...   \n",
              "335592       4                                               Good   \n",
              "246353       1  Not good. Returned first phone and they sent m...   \n",
              "273324       4  Met expectations! I'm very satisfied!Even arri...   \n",
              "\n",
              "        Review Votes  Sentiment  \n",
              "134801           0.0          1  \n",
              "123493           0.0          1  \n",
              "335592           0.0          1  \n",
              "246353           0.0          0  \n",
              "273324           1.0          1  "
            ],
            "text/html": [
              "\n",
              "  <div id=\"df-d4d04474-dc39-4b86-a73d-01b374eb4918\">\n",
              "    <div class=\"colab-df-container\">\n",
              "      <div>\n",
              "<style scoped>\n",
              "    .dataframe tbody tr th:only-of-type {\n",
              "        vertical-align: middle;\n",
              "    }\n",
              "\n",
              "    .dataframe tbody tr th {\n",
              "        vertical-align: top;\n",
              "    }\n",
              "\n",
              "    .dataframe thead th {\n",
              "        text-align: right;\n",
              "    }\n",
              "</style>\n",
              "<table border=\"1\" class=\"dataframe\">\n",
              "  <thead>\n",
              "    <tr style=\"text-align: right;\">\n",
              "      <th></th>\n",
              "      <th>Product Name</th>\n",
              "      <th>Brand Name</th>\n",
              "      <th>Price</th>\n",
              "      <th>Rating</th>\n",
              "      <th>Reviews</th>\n",
              "      <th>Review Votes</th>\n",
              "      <th>Sentiment</th>\n",
              "    </tr>\n",
              "  </thead>\n",
              "  <tbody>\n",
              "    <tr>\n",
              "      <th>134801</th>\n",
              "      <td>BLU Studio 5.0 C HD - Unlocked Cell Phones - R...</td>\n",
              "      <td>BLU</td>\n",
              "      <td>2000.00</td>\n",
              "      <td>5</td>\n",
              "      <td>For the price I paid for this devices, its fan...</td>\n",
              "      <td>0.0</td>\n",
              "      <td>1</td>\n",
              "    </tr>\n",
              "    <tr>\n",
              "      <th>123493</th>\n",
              "      <td>Blu LIFE 8 Unlocked (Pink)</td>\n",
              "      <td>BLU</td>\n",
              "      <td>199.98</td>\n",
              "      <td>5</td>\n",
              "      <td>love love love it....good buy...recommend to a...</td>\n",
              "      <td>0.0</td>\n",
              "      <td>1</td>\n",
              "    </tr>\n",
              "    <tr>\n",
              "      <th>335592</th>\n",
              "      <td>Samsung Galaxy S Duos II S7582 DUAL SIM Factor...</td>\n",
              "      <td>Samsung</td>\n",
              "      <td>299.99</td>\n",
              "      <td>4</td>\n",
              "      <td>Good</td>\n",
              "      <td>0.0</td>\n",
              "      <td>1</td>\n",
              "    </tr>\n",
              "    <tr>\n",
              "      <th>246353</th>\n",
              "      <td>Motorola Droid 2 A955 Verizon Phone 5MP Cam, W...</td>\n",
              "      <td>Motorola</td>\n",
              "      <td>82.00</td>\n",
              "      <td>1</td>\n",
              "      <td>Not good. Returned first phone and they sent m...</td>\n",
              "      <td>0.0</td>\n",
              "      <td>0</td>\n",
              "    </tr>\n",
              "    <tr>\n",
              "      <th>273324</th>\n",
              "      <td>Nokia Lumia 920 32GB Unlocked GSM 4G LTE Windo...</td>\n",
              "      <td>Nokia</td>\n",
              "      <td>149.35</td>\n",
              "      <td>4</td>\n",
              "      <td>Met expectations! I'm very satisfied!Even arri...</td>\n",
              "      <td>1.0</td>\n",
              "      <td>1</td>\n",
              "    </tr>\n",
              "  </tbody>\n",
              "</table>\n",
              "</div>\n",
              "      <button class=\"colab-df-convert\" onclick=\"convertToInteractive('df-d4d04474-dc39-4b86-a73d-01b374eb4918')\"\n",
              "              title=\"Convert this dataframe to an interactive table.\"\n",
              "              style=\"display:none;\">\n",
              "        \n",
              "  <svg xmlns=\"http://www.w3.org/2000/svg\" height=\"24px\"viewBox=\"0 0 24 24\"\n",
              "       width=\"24px\">\n",
              "    <path d=\"M0 0h24v24H0V0z\" fill=\"none\"/>\n",
              "    <path d=\"M18.56 5.44l.94 2.06.94-2.06 2.06-.94-2.06-.94-.94-2.06-.94 2.06-2.06.94zm-11 1L8.5 8.5l.94-2.06 2.06-.94-2.06-.94L8.5 2.5l-.94 2.06-2.06.94zm10 10l.94 2.06.94-2.06 2.06-.94-2.06-.94-.94-2.06-.94 2.06-2.06.94z\"/><path d=\"M17.41 7.96l-1.37-1.37c-.4-.4-.92-.59-1.43-.59-.52 0-1.04.2-1.43.59L10.3 9.45l-7.72 7.72c-.78.78-.78 2.05 0 2.83L4 21.41c.39.39.9.59 1.41.59.51 0 1.02-.2 1.41-.59l7.78-7.78 2.81-2.81c.8-.78.8-2.07 0-2.86zM5.41 20L4 18.59l7.72-7.72 1.47 1.35L5.41 20z\"/>\n",
              "  </svg>\n",
              "      </button>\n",
              "      \n",
              "  <style>\n",
              "    .colab-df-container {\n",
              "      display:flex;\n",
              "      flex-wrap:wrap;\n",
              "      gap: 12px;\n",
              "    }\n",
              "\n",
              "    .colab-df-convert {\n",
              "      background-color: #E8F0FE;\n",
              "      border: none;\n",
              "      border-radius: 50%;\n",
              "      cursor: pointer;\n",
              "      display: none;\n",
              "      fill: #1967D2;\n",
              "      height: 32px;\n",
              "      padding: 0 0 0 0;\n",
              "      width: 32px;\n",
              "    }\n",
              "\n",
              "    .colab-df-convert:hover {\n",
              "      background-color: #E2EBFA;\n",
              "      box-shadow: 0px 1px 2px rgba(60, 64, 67, 0.3), 0px 1px 3px 1px rgba(60, 64, 67, 0.15);\n",
              "      fill: #174EA6;\n",
              "    }\n",
              "\n",
              "    [theme=dark] .colab-df-convert {\n",
              "      background-color: #3B4455;\n",
              "      fill: #D2E3FC;\n",
              "    }\n",
              "\n",
              "    [theme=dark] .colab-df-convert:hover {\n",
              "      background-color: #434B5C;\n",
              "      box-shadow: 0px 1px 3px 1px rgba(0, 0, 0, 0.15);\n",
              "      filter: drop-shadow(0px 1px 2px rgba(0, 0, 0, 0.3));\n",
              "      fill: #FFFFFF;\n",
              "    }\n",
              "  </style>\n",
              "\n",
              "      <script>\n",
              "        const buttonEl =\n",
              "          document.querySelector('#df-d4d04474-dc39-4b86-a73d-01b374eb4918 button.colab-df-convert');\n",
              "        buttonEl.style.display =\n",
              "          google.colab.kernel.accessAllowed ? 'block' : 'none';\n",
              "\n",
              "        async function convertToInteractive(key) {\n",
              "          const element = document.querySelector('#df-d4d04474-dc39-4b86-a73d-01b374eb4918');\n",
              "          const dataTable =\n",
              "            await google.colab.kernel.invokeFunction('convertToInteractive',\n",
              "                                                     [key], {});\n",
              "          if (!dataTable) return;\n",
              "\n",
              "          const docLinkHtml = 'Like what you see? Visit the ' +\n",
              "            '<a target=\"_blank\" href=https://colab.research.google.com/notebooks/data_table.ipynb>data table notebook</a>'\n",
              "            + ' to learn more about interactive tables.';\n",
              "          element.innerHTML = '';\n",
              "          dataTable['output_type'] = 'display_data';\n",
              "          await google.colab.output.renderOutput(dataTable, element);\n",
              "          const docLink = document.createElement('div');\n",
              "          docLink.innerHTML = docLinkHtml;\n",
              "          element.appendChild(docLink);\n",
              "        }\n",
              "      </script>\n",
              "    </div>\n",
              "  </div>\n",
              "  "
            ]
          },
          "metadata": {},
          "execution_count": 45
        }
      ],
      "source": [
        "df = df.sample(frac=0.1, random_state=0) #SINCE DATA IS LARGER...CONSIDERING SMALL PART OF DATA FOR TRIANING\n",
        "\n",
        "# Drop missing values\n",
        "df.dropna(inplace=True)\n",
        "\n",
        "# Remove any 'neutral' ratings equal to 3\n",
        "df = df[df['Rating'] != 3]\n",
        "\n",
        "# Encode 4s and 5s as 1 (positive sentiment) and 1s and 2s as 0 (negative sentiment)\n",
        "df['Sentiment'] = np.where(df['Rating'] > 3, 1, 0)\n",
        "df.head()\n",
        "\n",
        "#FINALLY TRYING MAKE REVIEWS INTO 2CLASSES...EITHER GOOD REVIEW(1) OR BAD REVIEW(0)  "
      ]
    },
    {
      "cell_type": "code",
      "execution_count": 46,
      "id": "2d984eaf",
      "metadata": {
        "colab": {
          "base_uri": "https://localhost:8080/"
        },
        "id": "2d984eaf",
        "outputId": "2facb420-785f-42b1-d60f-790900507e04"
      },
      "outputs": [
        {
          "output_type": "execute_result",
          "data": {
            "text/plain": [
              "(30888, 7)"
            ]
          },
          "metadata": {},
          "execution_count": 46
        }
      ],
      "source": [
        "df.shape"
      ]
    },
    {
      "cell_type": "code",
      "execution_count": 47,
      "id": "c1691caf",
      "metadata": {
        "colab": {
          "base_uri": "https://localhost:8080/",
          "height": 281
        },
        "id": "c1691caf",
        "outputId": "fb69e6f3-293f-4c74-ed0c-cb28c7034841"
      },
      "outputs": [
        {
          "output_type": "display_data",
          "data": {
            "text/plain": [
              "<Figure size 432x288 with 1 Axes>"
            ],
            "image/png": "[encoded data removed]"
          },
          "metadata": {
            "needs_background": "light"
          }
        }
      ],
      "source": [
        "#to check balance between positie and negative reviews\n",
        "\n",
        "df[\"Sentiment\"].plot.hist(bins=3)\n",
        "plt.title('Classes distribution in the train data')\n",
        "plt.xlim(-0.5, 2)\n",
        "plt.legend()\n",
        "plt.show()"
      ]
    },
    {
      "cell_type": "markdown",
      "source": [
        "SINCE IT IS UNBALANCED DATASET...WE ARE USING DATASAMPLING TECHNIQUE CALLED SMOTE"
      ],
      "metadata": {
        "id": "1Ny9nvfpLXxy"
      },
      "id": "1Ny9nvfpLXxy"
    },
    {
      "cell_type": "code",
      "execution_count": 48,
      "id": "cb186d8d",
      "metadata": {
        "id": "cb186d8d"
      },
      "outputs": [],
      "source": [
        "from sklearn.model_selection import train_test_split, GridSearchCV"
      ]
    },
    {
      "cell_type": "markdown",
      "id": "b619ea3b",
      "metadata": {
        "id": "b619ea3b"
      },
      "source": [
        "##### Review is good or bad decided based on rating ... here it is SENTIMENT classification"
      ]
    },
    {
      "cell_type": "code",
      "execution_count": 49,
      "id": "f992c77f",
      "metadata": {
        "colab": {
          "base_uri": "https://localhost:8080/"
        },
        "id": "f992c77f",
        "outputId": "8c545308-4c22-456f-d4b1-fb57a164da51"
      },
      "outputs": [
        {
          "output_type": "stream",
          "name": "stdout",
          "text": [
            "Load 27799 training examples and 3089 validation examples. \n",
            "\n",
            "Show a review in the training set : \n",
            " Very good\n"
          ]
        }
      ],
      "source": [
        "# Split data into training set and validation with same ratio of classes in data  \n",
        "X_train, X_test, y_train, y_test = train_test_split(df['Reviews'], df['Sentiment'], test_size=0.1,stratify=df['Sentiment'], random_state=42)\n",
        "\n",
        "print('Load %d training examples and %d validation examples. \\n' %(X_train.shape[0],X_test.shape[0]))\n",
        "print('Show a review in the training set : \\n', X_train.iloc[10])"
      ]
    },
    {
      "cell_type": "markdown",
      "id": "953f53fb",
      "metadata": {
        "id": "953f53fb"
      },
      "source": [
        "## TEXT PREPROCESSING\n",
        "\n",
        "The following text preprocessing are implemented to convert raw reviews to cleaned review, so that it will be easier for us to do feature extraction in the next step.\n",
        "* remove html tags using BeautifulSoup\n",
        "* remove non-character such as digits and symbols\n",
        "* convert to lower case\n",
        "* remove stop words such as \"the\" and \"and\" if needed\n",
        "* convert to root words by stemming if needed"
      ]
    },
    {
      "cell_type": "code",
      "execution_count": 50,
      "id": "ca08ba11",
      "metadata": {
        "id": "ca08ba11"
      },
      "outputs": [],
      "source": [
        "from bs4 import BeautifulSoup  \n",
        "import re\n",
        "import nltk\n",
        "from nltk.corpus import stopwords \n",
        "from nltk.stem import SnowballStemmer"
      ]
    },
    {
      "cell_type": "code",
      "execution_count": 51,
      "id": "37e2bbb3",
      "metadata": {
        "colab": {
          "base_uri": "https://localhost:8080/"
        },
        "id": "37e2bbb3",
        "outputId": "858ac1f7-9c7a-411a-d585-0285bf3f957a"
      },
      "outputs": [
        {
          "output_type": "stream",
          "name": "stdout",
          "text": [
            "Looking in indexes: https://pypi.org/simple, https://us-python.pkg.dev/colab-wheels/public/simple/\n",
            "Requirement already satisfied: lxml in /usr/local/lib/python3.7/dist-packages (4.9.1)\n"
          ]
        }
      ],
      "source": [
        "pip install lxml\n"
      ]
    },
    {
      "cell_type": "code",
      "execution_count": 52,
      "id": "4d732d34",
      "metadata": {
        "id": "4d732d34"
      },
      "outputs": [],
      "source": [
        "## FUNCTION TO REMOVE STOP WORDS AND DO STEMMING\n",
        "\n",
        "def cleanText(raw_text, remove_stopwords=False, stemming=False, split_text=False):\n",
        "    \n",
        "    text = BeautifulSoup(raw_text, 'lxml').get_text()         # remove html\n",
        "    letters_only = re.sub(\"[^a-zA-Z]\", \" \", text)             # remove non-character\n",
        "    words = letters_only.lower().split()                      # convert to lower case \n",
        "    \n",
        "    if remove_stopwords: # remove stopword\n",
        "        stops = set(stopwords.words(\"english\"))\n",
        "        words = [w for w in words if not w in stops]\n",
        "        \n",
        "    if stemming==True: # stemming\n",
        "        stemmer = SnowballStemmer('english') \n",
        "        words = [stemmer.stem(w) for w in words]\n",
        "        \n",
        "    if split_text==True:  # split text\n",
        "        return (words)\n",
        "    \n",
        "    return( \" \".join(words)) "
      ]
    },
    {
      "cell_type": "code",
      "execution_count": 53,
      "id": "619bbd84",
      "metadata": {
        "scrolled": true,
        "colab": {
          "base_uri": "https://localhost:8080/"
        },
        "id": "619bbd84",
        "outputId": "2f8aae2d-969e-4197-d063-031b8c7c7248"
      },
      "outputs": [
        {
          "output_type": "stream",
          "name": "stdout",
          "text": [
            "Show a cleaned review in the training set : \n",
            " very good\n"
          ]
        }
      ],
      "source": [
        "# APPENDING THE CLEANED DATA INTO AN EMPTY LIST\n",
        "import warnings\n",
        "warnings.filterwarnings(\"ignore\", category=UserWarning, module='bs4')\n",
        "\n",
        "# Preprocess text data in training set and validation set\n",
        "X_train_cleaned = []\n",
        "X_test_cleaned = []\n",
        "\n",
        "for d in X_train:\n",
        "    X_train_cleaned.append(cleanText(d))\n",
        "print('Show a cleaned review in the training set : \\n',  X_train_cleaned[10])\n",
        "    \n",
        "for d in X_test:\n",
        "    X_test_cleaned.append(cleanText(d))"
      ]
    },
    {
      "cell_type": "code",
      "execution_count": 54,
      "id": "bd667461",
      "metadata": {
        "id": "bd667461"
      },
      "outputs": [],
      "source": [
        "from sklearn import metrics\n",
        "from sklearn.metrics import roc_auc_score, accuracy_score\n"
      ]
    },
    {
      "cell_type": "code",
      "execution_count": 55,
      "id": "e47660a3",
      "metadata": {
        "id": "e47660a3"
      },
      "outputs": [],
      "source": [
        "## FUNCTION FOR METRICS\n",
        "\n",
        "def modelEvaluation(predictions):\n",
        "    print (\"\\nAccuracy on validation set: {:.4f}\".format(accuracy_score(y_test, predictions)))\n",
        "    print(\"\\nAUC score : {:.4f}\".format(roc_auc_score(y_test, predictions)))\n",
        "    print(\"\\nClassification report : \\n\", metrics.classification_report(y_test, predictions))\n",
        "    print(\"\\nConfusion Matrix : \\n\", metrics.confusion_matrix(y_test, predictions))"
      ]
    },
    {
      "cell_type": "markdown",
      "id": "db2f8eb4",
      "metadata": {
        "id": "db2f8eb4"
      },
      "source": [
        "##### TFIDF VECTORIZER WITH LOGISTIC REGRESSION AS CLASSIFIER"
      ]
    },
    {
      "cell_type": "code",
      "execution_count": 56,
      "id": "077b7a50",
      "metadata": {
        "id": "077b7a50"
      },
      "outputs": [],
      "source": [
        "from sklearn.feature_extraction.text import TfidfVectorizer\n",
        "from sklearn.linear_model import LogisticRegression"
      ]
    },
    {
      "cell_type": "code",
      "execution_count": 57,
      "id": "2032b064",
      "metadata": {
        "colab": {
          "base_uri": "https://localhost:8080/"
        },
        "id": "2032b064",
        "outputId": "1ec369ac-1aea-4e06-f2fd-222b0bcffa0e"
      },
      "outputs": [
        {
          "output_type": "stream",
          "name": "stdout",
          "text": [
            "Number of features : 5973 \n",
            "\n",
            "Show some feature names : \n",
            " ['00', 'challenge', 'factory', 'letdown', 'primarily', 'states']\n"
          ]
        }
      ],
      "source": [
        "# Fit and transform the training data to a document-term matrix using TfidfVectorizer \n",
        "\n",
        "tfidf = TfidfVectorizer(min_df=5) #minimum document frequency of 5\n",
        "X_train_tfidf = tfidf.fit_transform(X_train)\n",
        "print(\"Number of features : %d \\n\" %len(tfidf.get_feature_names())) #1722\n",
        "print(\"Show some feature names : \\n\", tfidf.get_feature_names()[::1000])\n",
        "\n"
      ]
    },
    {
      "cell_type": "code",
      "source": [
        "import imblearn"
      ],
      "metadata": {
        "id": "w84MW97TGfnO"
      },
      "id": "w84MW97TGfnO",
      "execution_count": 92,
      "outputs": []
    },
    {
      "cell_type": "code",
      "source": [
        "#USING SMOTE TO TACKLE CLASS IMBALANCE\n",
        "\n",
        "from imblearn.over_sampling import SMOTE\n",
        "sm = SMOTE(random_state=42)\n",
        "X_res, y_res = sm.fit_resample(X_train_tfidf, y_train)"
      ],
      "metadata": {
        "id": "EH2JmuWeGfiO"
      },
      "id": "EH2JmuWeGfiO",
      "execution_count": 60,
      "outputs": []
    },
    {
      "cell_type": "code",
      "source": [
        "# Logistic Regression\n",
        "lr = LogisticRegression()\n",
        "lr.fit(X_res, y_res)"
      ],
      "metadata": {
        "id": "a356a_MnGfev"
      },
      "id": "a356a_MnGfev",
      "execution_count": null,
      "outputs": []
    },
    {
      "cell_type": "code",
      "execution_count": 62,
      "id": "f7075e00",
      "metadata": {
        "colab": {
          "base_uri": "https://localhost:8080/"
        },
        "id": "f7075e00",
        "outputId": "f096cd29-87b6-472f-a464-c1dd161da6b3"
      },
      "outputs": [
        {
          "output_type": "stream",
          "name": "stdout",
          "text": [
            "\n",
            "Top 10 features with smallest coefficients :\n",
            "['not' 'return' 'waste' 'disappointed' 'stopped' 'horrible' 'poor' 'worst'\n",
            " 'slow' 'returning']\n",
            "\n",
            "Top 10 features with largest coefficients : \n",
            "['love' 'great' 'excellent' 'perfect' 'good' 'best' 'excelente' 'awesome'\n",
            " 'easy' 'amazing']\n"
          ]
        }
      ],
      "source": [
        "# Look at the top 10 features with smallest and the largest coefficients\n",
        "feature_names = np.array(tfidf.get_feature_names())\n",
        "sorted_coef_index = lr.coef_[0].argsort()\n",
        "print('\\nTop 10 features with smallest coefficients :\\n{}\\n'.format(feature_names[sorted_coef_index[:10]]))\n",
        "print('Top 10 features with largest coefficients : \\n{}'.format(feature_names[sorted_coef_index[:-11:-1]]))"
      ]
    },
    {
      "cell_type": "code",
      "execution_count": 64,
      "id": "6e452eee",
      "metadata": {
        "scrolled": true,
        "colab": {
          "base_uri": "https://localhost:8080/"
        },
        "id": "6e452eee",
        "outputId": "b41b7a7d-c1da-4cb0-9786-f5a8fc89a6de"
      },
      "outputs": [
        {
          "output_type": "stream",
          "name": "stdout",
          "text": [
            "\n",
            "Accuracy on validation set: 0.9155\n",
            "\n",
            "AUC score : 0.9153\n",
            "\n",
            "Classification report : \n",
            "               precision    recall  f1-score   support\n",
            "\n",
            "           0       0.79      0.91      0.85       798\n",
            "           1       0.97      0.92      0.94      2291\n",
            "\n",
            "    accuracy                           0.92      3089\n",
            "   macro avg       0.88      0.92      0.89      3089\n",
            "weighted avg       0.92      0.92      0.92      3089\n",
            "\n",
            "\n",
            "Confusion Matrix : \n",
            " [[ 730   68]\n",
            " [ 193 2098]]\n"
          ]
        }
      ],
      "source": [
        "# Evaluate on the validaton set\n",
        "predictions = lr.predict(tfidf.transform(X_test_cleaned))\n",
        "modelEvaluation(predictions)"
      ]
    },
    {
      "cell_type": "markdown",
      "id": "cec5ed9b",
      "metadata": {
        "id": "cec5ed9b"
      },
      "source": [
        "#### USING TOKENISER AND LSTM"
      ]
    },
    {
      "cell_type": "code",
      "execution_count": null,
      "id": "1d1f2ba6",
      "metadata": {
        "id": "1d1f2ba6"
      },
      "outputs": [],
      "source": [
        "from nltk import sent_tokenize, word_tokenize, pos_tag\n",
        "from keras_preprocessing.sequence import pad_sequences\n",
        "from keras.utils import np_utils\n",
        "from keras.models import Sequential\n",
        "from keras.layers.core import Dense, Dropout, Activation, Lambda\n",
        "from tensorflow.keras.layers import Embedding\n",
        "from tensorflow.keras import layers\n",
        "from keras.preprocessing.text import Tokenizer\n",
        "from tensorflow.keras.layers import LSTM"
      ]
    },
    {
      "cell_type": "code",
      "execution_count": null,
      "id": "c55fbc23",
      "metadata": {
        "id": "c55fbc23",
        "outputId": "2f885bc2-2957-4052-993e-87974ef1d800"
      },
      "outputs": [
        {
          "name": "stdout",
          "output_type": "stream",
          "text": [
            "X_train shape: (27799, 100)\n",
            "X_test shape: (3089, 100)\n",
            "y_train shape: (27799, 2)\n",
            "y_test shape: (3089, 2)\n"
          ]
        }
      ],
      "source": [
        "top_words = 20000 \n",
        "maxlen = 100 \n",
        "batch_size = 32\n",
        "nb_classes = 2\n",
        "nb_epoch = 10\n",
        "\n",
        "\n",
        "# Vectorize X_train and X_test to 2D tensor\n",
        "tokenizer = Tokenizer(num_words=top_words) #only consider top 20000 words in the corpse\n",
        "tokenizer.fit_on_texts(X_train)\n",
        "# tokenizer.word_index #access word-to-index dictionary of trained tokenizer\n",
        "\n",
        "sequences_train = tokenizer.texts_to_sequences(X_train)\n",
        "sequences_test = tokenizer.texts_to_sequences(X_test)\n",
        "\n",
        "X_train_seq =pad_sequences(sequences_train, maxlen=maxlen)\n",
        "X_test_seq = pad_sequences(sequences_test, maxlen=maxlen)\n",
        "\n",
        "\n",
        "# one-hot encoding of y_train and y_test\n",
        "y_train_seq = np_utils.to_categorical((y_train).astype('float32'), nb_classes)\n",
        "y_test_seq = np_utils.to_categorical((y_test).astype('float32'), nb_classes)\n",
        "print('X_train shape:', X_train_seq.shape) \n",
        "print('X_test shape:', X_test_seq.shape) \n",
        "print('y_train shape:', y_train_seq.shape)\n",
        "print('y_test shape:', y_test_seq.shape) "
      ]
    },
    {
      "cell_type": "code",
      "execution_count": null,
      "id": "82e1563b",
      "metadata": {
        "id": "82e1563b",
        "outputId": "d18100ab-d49c-4361-a0cc-79343db839fe"
      },
      "outputs": [
        {
          "name": "stdout",
          "output_type": "stream",
          "text": [
            "Model: \"sequential_1\"\n",
            "_________________________________________________________________\n",
            " Layer (type)                Output Shape              Param #   \n",
            "=================================================================\n",
            " embedding_1 (Embedding)     (None, None, 128)         2560000   \n",
            "                                                                 \n",
            " lstm_1 (LSTM)               (None, 128)               131584    \n",
            "                                                                 \n",
            " dropout_1 (Dropout)         (None, 128)               0         \n",
            "                                                                 \n",
            " dense_1 (Dense)             (None, 2)                 258       \n",
            "                                                                 \n",
            " activation_1 (Activation)   (None, 2)                 0         \n",
            "                                                                 \n",
            "=================================================================\n",
            "Total params: 2,691,842\n",
            "Trainable params: 2,691,842\n",
            "Non-trainable params: 0\n",
            "_________________________________________________________________\n"
          ]
        }
      ],
      "source": [
        "# Construct a simple LSTM\n",
        "model1 = Sequential()\n",
        "model1.add(Embedding(top_words, 128))\n",
        "model1.add(LSTM(128)) \n",
        "model1.add(Dropout(0.2))\n",
        "model1.add(Dense(nb_classes))\n",
        "model1.add(Activation('softmax'))\n",
        "model1.summary()\n"
      ]
    },
    {
      "cell_type": "code",
      "execution_count": null,
      "id": "6a40d782",
      "metadata": {
        "id": "6a40d782",
        "outputId": "d5f1483f-7502-4a09-9de3-b361833024c7"
      },
      "outputs": [
        {
          "name": "stdout",
          "output_type": "stream",
          "text": [
            "Epoch 1/10\n",
            "869/869 [==============================] - 145s 164ms/step - loss: 0.2583 - accuracy: 0.8967\n",
            "Epoch 2/10\n",
            "869/869 [==============================] - 124s 143ms/step - loss: 0.1395 - accuracy: 0.9511\n",
            "Epoch 3/10\n",
            "869/869 [==============================] - 120s 138ms/step - loss: 0.0999 - accuracy: 0.9663\n",
            "Epoch 4/10\n",
            "869/869 [==============================] - 120s 138ms/step - loss: 0.0765 - accuracy: 0.9754\n",
            "Epoch 5/10\n",
            "869/869 [==============================] - 150s 172ms/step - loss: 0.0598 - accuracy: 0.9811\n",
            "Epoch 6/10\n",
            "869/869 [==============================] - 181s 208ms/step - loss: 0.0571 - accuracy: 0.9810\n",
            "Epoch 7/10\n",
            "869/869 [==============================] - 178s 205ms/step - loss: 0.0401 - accuracy: 0.9872\n",
            "Epoch 8/10\n",
            "869/869 [==============================] - 172s 198ms/step - loss: 0.0335 - accuracy: 0.9899\n",
            "Epoch 9/10\n",
            "869/869 [==============================] - 165s 190ms/step - loss: 0.0248 - accuracy: 0.9931\n",
            "Epoch 10/10\n",
            "869/869 [==============================] - 147s 170ms/step - loss: 0.0237 - accuracy: 0.9930\n",
            "97/97 [==============================] - 5s 40ms/step - loss: 0.2866 - accuracy: 0.9353\n",
            "Test loss : 0.2866\n",
            "Test accuracy : 0.9353\n"
          ]
        }
      ],
      "source": [
        "# Compile LSTM\n",
        "model1.compile(loss='binary_crossentropy',\n",
        "              optimizer='adam',\n",
        "              metrics=['accuracy'])\n",
        "\n",
        "model1.fit(X_train_seq, y_train_seq, epochs=nb_epoch,batch_size=batch_size,verbose=1)\n",
        "\n",
        "# Model evluation\n",
        "score = model1.evaluate(X_test_seq, y_test_seq, batch_size=batch_size)\n",
        "print('Test loss : {:.4f}'.format(score[0]))\n",
        "print('Test accuracy : {:.4f}'.format(score[1]))"
      ]
    },
    {
      "cell_type": "code",
      "execution_count": null,
      "id": "11e72c98",
      "metadata": {
        "id": "11e72c98"
      },
      "outputs": [],
      "source": []
    },
    {
      "cell_type": "code",
      "execution_count": null,
      "id": "5f57d256",
      "metadata": {
        "id": "5f57d256"
      },
      "outputs": [],
      "source": []
    }
  ],
  "metadata": {
    "kernelspec": {
      "display_name": "Python 3",
      "language": "python",
      "name": "python3"
    },
    "language_info": {
      "codemirror_mode": {
        "name": "ipython",
        "version": 3
      },
      "file_extension": ".py",
      "mimetype": "text/x-python",
      "name": "python",
      "nbconvert_exporter": "python",
      "pygments_lexer": "ipython3",
      "version": "3.8.8"
    },
    "colab": {
      "provenance": [],
      "collapsed_sections": []
    }
  },
  "nbformat": 4,
  "nbformat_minor": 5
}